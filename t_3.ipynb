{
 "cells": [
  {
   "cell_type": "code",
   "execution_count": 19,
   "metadata": {},
   "outputs": [],
   "source": [
    "import pandas as pd\n",
    "import numpy as np\n",
    "import matplotlib.pyplot as plt\n",
    "import seaborn as sns\n",
    "import os\n",
    "import calendar\n",
    "import missingno as msno"
   ]
  },
  {
   "cell_type": "code",
   "execution_count": 20,
   "metadata": {},
   "outputs": [],
   "source": [
    "# Создаем папку для сохранения графиков\n",
    "output_folder = \"charts/task3\"\n",
    "os.makedirs(output_folder, exist_ok=True)"
   ]
  },
  {
   "cell_type": "code",
   "execution_count": 21,
   "metadata": {},
   "outputs": [
    {
     "name": "stdout",
     "output_type": "stream",
     "text": [
      "💾 Загружаем датасеты...\n"
     ]
    }
   ],
   "source": [
    "# Загружаем датасеты\n",
    "print(\"💾 Загружаем датасеты...\")\n",
    "OUTLETS = pd.read_csv('outlets.csv', delimiter=';', dtype=str, low_memory=False)\n",
    "SELLOUT = pd.read_csv('SELLOUT_TIME.csv', delimiter=';', dtype=str, low_memory=False)"
   ]
  },
  {
   "cell_type": "code",
   "execution_count": 22,
   "metadata": {},
   "outputs": [
    {
     "data": {
      "text/html": [
       "<div>\n",
       "<style scoped>\n",
       "    .dataframe tbody tr th:only-of-type {\n",
       "        vertical-align: middle;\n",
       "    }\n",
       "\n",
       "    .dataframe tbody tr th {\n",
       "        vertical-align: top;\n",
       "    }\n",
       "\n",
       "    .dataframe thead th {\n",
       "        text-align: right;\n",
       "    }\n",
       "</style>\n",
       "<table border=\"1\" class=\"dataframe\">\n",
       "  <thead>\n",
       "    <tr style=\"text-align: right;\">\n",
       "      <th></th>\n",
       "      <th>product_id</th>\n",
       "      <th>outlet_id</th>\n",
       "      <th>org_name</th>\n",
       "      <th>cnt</th>\n",
       "      <th>sell_date</th>\n",
       "    </tr>\n",
       "  </thead>\n",
       "  <tbody>\n",
       "    <tr>\n",
       "      <th>0</th>\n",
       "      <td>5000157992514</td>\n",
       "      <td>00000000298713</td>\n",
       "      <td>АКЦИОНЕРНОЕ ОБЩЕСТВО \"ТАНДЕР\"</td>\n",
       "      <td>1</td>\n",
       "      <td>2022-01-26</td>\n",
       "    </tr>\n",
       "    <tr>\n",
       "      <th>1</th>\n",
       "      <td>5000157992514</td>\n",
       "      <td>00000000298715</td>\n",
       "      <td>АКЦИОНЕРНОЕ ОБЩЕСТВО \"ТАНДЕР\"</td>\n",
       "      <td>1</td>\n",
       "      <td>2022-01-08</td>\n",
       "    </tr>\n",
       "    <tr>\n",
       "      <th>2</th>\n",
       "      <td>5000157992514</td>\n",
       "      <td>00000000298716</td>\n",
       "      <td>ОБЩЕСТВО С ОГРАНИЧЕННОЙ ОТВЕТСТВЕННОСТЬЮ \"ЛАНК...</td>\n",
       "      <td>2</td>\n",
       "      <td>2022-01-20</td>\n",
       "    </tr>\n",
       "    <tr>\n",
       "      <th>3</th>\n",
       "      <td>5000157992514</td>\n",
       "      <td>00000000298716</td>\n",
       "      <td>ОБЩЕСТВО С ОГРАНИЧЕННОЙ ОТВЕТСТВЕННОСТЬЮ \"ЛАНК...</td>\n",
       "      <td>1</td>\n",
       "      <td>2022-01-27</td>\n",
       "    </tr>\n",
       "    <tr>\n",
       "      <th>4</th>\n",
       "      <td>5000157992514</td>\n",
       "      <td>00000000298716</td>\n",
       "      <td>ОБЩЕСТВО С ОГРАНИЧЕННОЙ ОТВЕТСТВЕННОСТЬЮ \"ЛАНК...</td>\n",
       "      <td>1</td>\n",
       "      <td>2022-01-28</td>\n",
       "    </tr>\n",
       "    <tr>\n",
       "      <th>5</th>\n",
       "      <td>5000157992514</td>\n",
       "      <td>00000000298716</td>\n",
       "      <td>ОБЩЕСТВО С ОГРАНИЧЕННОЙ ОТВЕТСТВЕННОСТЬЮ \"ЛАНК...</td>\n",
       "      <td>1</td>\n",
       "      <td>2022-01-31</td>\n",
       "    </tr>\n",
       "    <tr>\n",
       "      <th>6</th>\n",
       "      <td>5000157992514</td>\n",
       "      <td>00000000298716</td>\n",
       "      <td>ОБЩЕСТВО С ОГРАНИЧЕННОЙ ОТВЕТСТВЕННОСТЬЮ \"ЛАНК...</td>\n",
       "      <td>1</td>\n",
       "      <td>2022-02-03</td>\n",
       "    </tr>\n",
       "    <tr>\n",
       "      <th>7</th>\n",
       "      <td>5000157992514</td>\n",
       "      <td>00000000298716</td>\n",
       "      <td>ОБЩЕСТВО С ОГРАНИЧЕННОЙ ОТВЕТСТВЕННОСТЬЮ \"ЛАНК...</td>\n",
       "      <td>1</td>\n",
       "      <td>2022-02-07</td>\n",
       "    </tr>\n",
       "    <tr>\n",
       "      <th>8</th>\n",
       "      <td>5000157992514</td>\n",
       "      <td>00000000298716</td>\n",
       "      <td>ОБЩЕСТВО С ОГРАНИЧЕННОЙ ОТВЕТСТВЕННОСТЬЮ \"ЛАНК...</td>\n",
       "      <td>1</td>\n",
       "      <td>2022-02-17</td>\n",
       "    </tr>\n",
       "    <tr>\n",
       "      <th>9</th>\n",
       "      <td>5000157992514</td>\n",
       "      <td>00000000298716</td>\n",
       "      <td>ОБЩЕСТВО С ОГРАНИЧЕННОЙ ОТВЕТСТВЕННОСТЬЮ \"ЛАНК...</td>\n",
       "      <td>1</td>\n",
       "      <td>2022-03-09</td>\n",
       "    </tr>\n",
       "  </tbody>\n",
       "</table>\n",
       "</div>"
      ],
      "text/plain": [
       "      product_id       outlet_id  \\\n",
       "0  5000157992514  00000000298713   \n",
       "1  5000157992514  00000000298715   \n",
       "2  5000157992514  00000000298716   \n",
       "3  5000157992514  00000000298716   \n",
       "4  5000157992514  00000000298716   \n",
       "5  5000157992514  00000000298716   \n",
       "6  5000157992514  00000000298716   \n",
       "7  5000157992514  00000000298716   \n",
       "8  5000157992514  00000000298716   \n",
       "9  5000157992514  00000000298716   \n",
       "\n",
       "                                            org_name cnt   sell_date  \n",
       "0                      АКЦИОНЕРНОЕ ОБЩЕСТВО \"ТАНДЕР\"   1  2022-01-26  \n",
       "1                      АКЦИОНЕРНОЕ ОБЩЕСТВО \"ТАНДЕР\"   1  2022-01-08  \n",
       "2  ОБЩЕСТВО С ОГРАНИЧЕННОЙ ОТВЕТСТВЕННОСТЬЮ \"ЛАНК...   2  2022-01-20  \n",
       "3  ОБЩЕСТВО С ОГРАНИЧЕННОЙ ОТВЕТСТВЕННОСТЬЮ \"ЛАНК...   1  2022-01-27  \n",
       "4  ОБЩЕСТВО С ОГРАНИЧЕННОЙ ОТВЕТСТВЕННОСТЬЮ \"ЛАНК...   1  2022-01-28  \n",
       "5  ОБЩЕСТВО С ОГРАНИЧЕННОЙ ОТВЕТСТВЕННОСТЬЮ \"ЛАНК...   1  2022-01-31  \n",
       "6  ОБЩЕСТВО С ОГРАНИЧЕННОЙ ОТВЕТСТВЕННОСТЬЮ \"ЛАНК...   1  2022-02-03  \n",
       "7  ОБЩЕСТВО С ОГРАНИЧЕННОЙ ОТВЕТСТВЕННОСТЬЮ \"ЛАНК...   1  2022-02-07  \n",
       "8  ОБЩЕСТВО С ОГРАНИЧЕННОЙ ОТВЕТСТВЕННОСТЬЮ \"ЛАНК...   1  2022-02-17  \n",
       "9  ОБЩЕСТВО С ОГРАНИЧЕННОЙ ОТВЕТСТВЕННОСТЬЮ \"ЛАНК...   1  2022-03-09  "
      ]
     },
     "execution_count": 22,
     "metadata": {},
     "output_type": "execute_result"
    }
   ],
   "source": [
    "SELLOUT.head(10)"
   ]
  },
  {
   "cell_type": "code",
   "execution_count": 23,
   "metadata": {},
   "outputs": [],
   "source": [
    "SELLOUT = SELLOUT.drop('outlet_id', axis = 1)"
   ]
  },
  {
   "cell_type": "code",
   "execution_count": 24,
   "metadata": {},
   "outputs": [],
   "source": [
    "SELLOUT = SELLOUT.drop('sell_date', axis = 1)"
   ]
  },
  {
   "cell_type": "code",
   "execution_count": 25,
   "metadata": {},
   "outputs": [
    {
     "data": {
      "text/html": [
       "<div>\n",
       "<style scoped>\n",
       "    .dataframe tbody tr th:only-of-type {\n",
       "        vertical-align: middle;\n",
       "    }\n",
       "\n",
       "    .dataframe tbody tr th {\n",
       "        vertical-align: top;\n",
       "    }\n",
       "\n",
       "    .dataframe thead th {\n",
       "        text-align: right;\n",
       "    }\n",
       "</style>\n",
       "<table border=\"1\" class=\"dataframe\">\n",
       "  <thead>\n",
       "    <tr style=\"text-align: right;\">\n",
       "      <th></th>\n",
       "      <th>product_id</th>\n",
       "      <th>org_name</th>\n",
       "      <th>cnt</th>\n",
       "    </tr>\n",
       "  </thead>\n",
       "  <tbody>\n",
       "    <tr>\n",
       "      <th>0</th>\n",
       "      <td>5000157992514</td>\n",
       "      <td>АКЦИОНЕРНОЕ ОБЩЕСТВО \"ТАНДЕР\"</td>\n",
       "      <td>1</td>\n",
       "    </tr>\n",
       "    <tr>\n",
       "      <th>1</th>\n",
       "      <td>5000157992514</td>\n",
       "      <td>АКЦИОНЕРНОЕ ОБЩЕСТВО \"ТАНДЕР\"</td>\n",
       "      <td>1</td>\n",
       "    </tr>\n",
       "    <tr>\n",
       "      <th>2</th>\n",
       "      <td>5000157992514</td>\n",
       "      <td>ОБЩЕСТВО С ОГРАНИЧЕННОЙ ОТВЕТСТВЕННОСТЬЮ \"ЛАНК...</td>\n",
       "      <td>2</td>\n",
       "    </tr>\n",
       "    <tr>\n",
       "      <th>3</th>\n",
       "      <td>5000157992514</td>\n",
       "      <td>ОБЩЕСТВО С ОГРАНИЧЕННОЙ ОТВЕТСТВЕННОСТЬЮ \"ЛАНК...</td>\n",
       "      <td>1</td>\n",
       "    </tr>\n",
       "    <tr>\n",
       "      <th>4</th>\n",
       "      <td>5000157992514</td>\n",
       "      <td>ОБЩЕСТВО С ОГРАНИЧЕННОЙ ОТВЕТСТВЕННОСТЬЮ \"ЛАНК...</td>\n",
       "      <td>1</td>\n",
       "    </tr>\n",
       "    <tr>\n",
       "      <th>5</th>\n",
       "      <td>5000157992514</td>\n",
       "      <td>ОБЩЕСТВО С ОГРАНИЧЕННОЙ ОТВЕТСТВЕННОСТЬЮ \"ЛАНК...</td>\n",
       "      <td>1</td>\n",
       "    </tr>\n",
       "    <tr>\n",
       "      <th>6</th>\n",
       "      <td>5000157992514</td>\n",
       "      <td>ОБЩЕСТВО С ОГРАНИЧЕННОЙ ОТВЕТСТВЕННОСТЬЮ \"ЛАНК...</td>\n",
       "      <td>1</td>\n",
       "    </tr>\n",
       "    <tr>\n",
       "      <th>7</th>\n",
       "      <td>5000157992514</td>\n",
       "      <td>ОБЩЕСТВО С ОГРАНИЧЕННОЙ ОТВЕТСТВЕННОСТЬЮ \"ЛАНК...</td>\n",
       "      <td>1</td>\n",
       "    </tr>\n",
       "    <tr>\n",
       "      <th>8</th>\n",
       "      <td>5000157992514</td>\n",
       "      <td>ОБЩЕСТВО С ОГРАНИЧЕННОЙ ОТВЕТСТВЕННОСТЬЮ \"ЛАНК...</td>\n",
       "      <td>1</td>\n",
       "    </tr>\n",
       "    <tr>\n",
       "      <th>9</th>\n",
       "      <td>5000157992514</td>\n",
       "      <td>ОБЩЕСТВО С ОГРАНИЧЕННОЙ ОТВЕТСТВЕННОСТЬЮ \"ЛАНК...</td>\n",
       "      <td>1</td>\n",
       "    </tr>\n",
       "  </tbody>\n",
       "</table>\n",
       "</div>"
      ],
      "text/plain": [
       "      product_id                                           org_name cnt\n",
       "0  5000157992514                      АКЦИОНЕРНОЕ ОБЩЕСТВО \"ТАНДЕР\"   1\n",
       "1  5000157992514                      АКЦИОНЕРНОЕ ОБЩЕСТВО \"ТАНДЕР\"   1\n",
       "2  5000157992514  ОБЩЕСТВО С ОГРАНИЧЕННОЙ ОТВЕТСТВЕННОСТЬЮ \"ЛАНК...   2\n",
       "3  5000157992514  ОБЩЕСТВО С ОГРАНИЧЕННОЙ ОТВЕТСТВЕННОСТЬЮ \"ЛАНК...   1\n",
       "4  5000157992514  ОБЩЕСТВО С ОГРАНИЧЕННОЙ ОТВЕТСТВЕННОСТЬЮ \"ЛАНК...   1\n",
       "5  5000157992514  ОБЩЕСТВО С ОГРАНИЧЕННОЙ ОТВЕТСТВЕННОСТЬЮ \"ЛАНК...   1\n",
       "6  5000157992514  ОБЩЕСТВО С ОГРАНИЧЕННОЙ ОТВЕТСТВЕННОСТЬЮ \"ЛАНК...   1\n",
       "7  5000157992514  ОБЩЕСТВО С ОГРАНИЧЕННОЙ ОТВЕТСТВЕННОСТЬЮ \"ЛАНК...   1\n",
       "8  5000157992514  ОБЩЕСТВО С ОГРАНИЧЕННОЙ ОТВЕТСТВЕННОСТЬЮ \"ЛАНК...   1\n",
       "9  5000157992514  ОБЩЕСТВО С ОГРАНИЧЕННОЙ ОТВЕТСТВЕННОСТЬЮ \"ЛАНК...   1"
      ]
     },
     "execution_count": 25,
     "metadata": {},
     "output_type": "execute_result"
    }
   ],
   "source": [
    "SELLOUT.head(10)"
   ]
  },
  {
   "cell_type": "code",
   "execution_count": 32,
   "metadata": {},
   "outputs": [],
   "source": [
    "# Группируем данные по поставщику и суммируем количество\n",
    "supplier_summary = SELLOUT.groupby(\"org_name\")[\"cnt\"].sum().reset_index()"
   ]
  },
  {
   "cell_type": "code",
   "execution_count": null,
   "metadata": {},
   "outputs": [],
   "source": [
    "plt.figure(figsize=(10, 5))\n",
    "plt.bar(supplier_summary[\"org_name\"], supplier_summary[\"cnt\"])\n",
    "plt.xticks(rotation=45, ha=\"right\")\n",
    "plt.ylabel(\"Количество закупленного товара\")\n",
    "plt.title(\"Закупки по поставщикам\")\n",
    "plt.show()"
   ]
  },
  {
   "cell_type": "code",
   "execution_count": 30,
   "metadata": {},
   "outputs": [
    {
     "name": "stdout",
     "output_type": "stream",
     "text": [
      "            Missing Values    %\n",
      "product_id               0  0.0\n",
      "outlet_id                0  0.0\n",
      "org_name                 0  0.0\n",
      "cnt                      0  0.0\n",
      "sell_date                0  0.0\n"
     ]
    },
    {
     "name": "stderr",
     "output_type": "stream",
     "text": [
      "C:\\Users\\pisma\\AppData\\Local\\Temp\\ipykernel_10808\\815873217.py:14: FutureWarning: \n",
      "\n",
      "Passing `palette` without assigning `hue` is deprecated and will be removed in v0.14.0. Assign the `x` variable to `hue` and set `legend=False` for the same effect.\n",
      "\n",
      "  sns.barplot(x=missing_values.index, y=missing_values['%'], palette=\"Blues_d\")\n"
     ]
    },
    {
     "data": {
      "image/png": "[encoded data removed]",
      "text/plain": [
       "<Figure size 1000x500 with 1 Axes>"
      ]
     },
     "metadata": {},
     "output_type": "display_data"
    }
   ],
   "source": [
    "# Функция для подсчета количества пропусков в каждом столбце\n",
    "def count_missing(df):\n",
    "    total = df.isnull().sum()\n",
    "    percent = 100 * df.isnull().sum()/len(df)\n",
    "    missing_data = pd.concat([total, percent], axis=1, keys=['Missing Values', '%'])\n",
    "    return(missing_data)\n",
    "\n",
    "# Выводим количество пропусков\n",
    "missing_values = count_missing(SELLOUT)\n",
    "print(missing_values)\n",
    "\n",
    "# Строим график пропусков\n",
    "plt.figure(figsize=(10, 5))\n",
    "sns.barplot(x=missing_values.index, y=missing_values['%'], palette=\"Blues_d\")\n",
    "plt.xlabel('Columns', fontsize=15)\n",
    "plt.ylabel('% of Missing Values', fontsize=15)\n",
    "plt.title('Percent Missing Data by Column', fontsize=15)\n",
    "plt.xticks(rotation=90)\n",
    "plt.show()"
   ]
  },
  {
   "cell_type": "code",
   "execution_count": 57,
   "metadata": {},
   "outputs": [],
   "source": [
    "OUTLETS.drop(columns='federal_subject', inplace=True, axis=1)"
   ]
  },
  {
   "cell_type": "code",
   "execution_count": 58,
   "metadata": {},
   "outputs": [
    {
     "name": "stdout",
     "output_type": "stream",
     "text": [
      "🔄 Приведение данных к нужным типам...\n"
     ]
    }
   ],
   "source": [
    "# Приведение типов\n",
    "print(\"🔄 Приведение данных к нужным типам...\")\n",
    "SELLOUT['sell_date'] = pd.to_datetime(SELLOUT['sell_date'], format='%Y-%m-%d', errors='coerce')\n",
    "SELLOUT['cnt'] = pd.to_numeric(SELLOUT['cnt'], errors='coerce').fillna(0).astype(int)\n",
    "SELLOUT['outlet_id'] = SELLOUT['outlet_id'].astype(str)\n",
    "OUTLETS['outlet_id'] = OUTLETS['outlet_id'].astype(str)\n",
    "\n",
    "# Объединение данных\n",
    "SELLOUT = SELLOUT.merge(OUTLETS, on='outlet_id', how='outer')\n"
   ]
  },
  {
   "cell_type": "code",
   "execution_count": 55,
   "metadata": {},
   "outputs": [
    {
     "name": "stdout",
     "output_type": "stream",
     "text": [
      "<class 'pandas.core.frame.DataFrame'>\n",
      "RangeIndex: 40412112 entries, 0 to 40412111\n",
      "Data columns (total 7 columns):\n",
      " #   Column            Dtype         \n",
      "---  ------            -----         \n",
      " 0   product_id        object        \n",
      " 1   outlet_id         object        \n",
      " 2   org_name          object        \n",
      " 3   cnt               int64         \n",
      " 4   sell_date         datetime64[ns]\n",
      " 5   org_name_outlets  object        \n",
      " 6   address           object        \n",
      "dtypes: datetime64[ns](1), int64(1), object(5)\n",
      "memory usage: 2.1+ GB\n"
     ]
    }
   ],
   "source": [
    "SELLOUT.info()"
   ]
  },
  {
   "cell_type": "code",
   "execution_count": null,
   "metadata": {},
   "outputs": [
    {
     "name": "stdout",
     "output_type": "stream",
     "text": [
      "                  Missing Values         %\n",
      "product_id                 38534  0.088810\n",
      "outlet_id                      0  0.000000\n",
      "org_name                   38534  0.088810\n",
      "cnt                        38534  0.088810\n",
      "sell_date                  38534  0.088810\n",
      "org_name_outlets         2938580  6.772603\n",
      "address                  2938580  6.772603\n"
     ]
    },
    {
     "name": "stderr",
     "output_type": "stream",
     "text": [
      "C:\\Users\\pisma\\AppData\\Local\\Temp\\ipykernel_10808\\815873217.py:14: FutureWarning: \n",
      "\n",
      "Passing `palette` without assigning `hue` is deprecated and will be removed in v0.14.0. Assign the `x` variable to `hue` and set `legend=False` for the same effect.\n",
      "\n",
      "  sns.barplot(x=missing_values.index, y=missing_values['%'], palette=\"Blues_d\")\n"
     ]
    },
    {
     "data": {
      "image/png": "[encoded data removed]",
      "text/plain": [
       "<Figure size 1000x500 with 1 Axes>"
      ]
     },
     "metadata": {},
     "output_type": "display_data"
    },
    {
     "ename": "",
     "evalue": "",
     "output_type": "error",
     "traceback": [
      "\u001b[1;31mThe Kernel crashed while executing code in the current cell or a previous cell. \n",
      "\u001b[1;31mPlease review the code in the cell(s) to identify a possible cause of the failure. \n",
      "\u001b[1;31mClick <a href='https://aka.ms/vscodeJupyterKernelCrash'>here</a> for more info. \n",
      "\u001b[1;31mView Jupyter <a href='command:jupyter.viewOutput'>log</a> for further details."
     ]
    }
   ],
   "source": [
    "# Функция для подсчета количества пропусков в каждом столбце\n",
    "def count_missing(df):\n",
    "    total = df.isnull().sum()\n",
    "    percent = 100 * df.isnull().sum()/len(df)\n",
    "    missing_data = pd.concat([total, percent], axis=1, keys=['Missing Values', '%'])\n",
    "    return(missing_data)\n",
    "\n",
    "# Выводим количество пропусков\n",
    "missing_values = count_missing(SELLOUT)\n",
    "print(missing_values)\n",
    "\n",
    "# Строим график пропусков\n",
    "plt.figure(figsize=(10, 5))\n",
    "sns.barplot(x=missing_values.index, y=missing_values['%'], palette=\"Blues_d\")\n",
    "plt.xlabel('Columns', fontsize=15)\n",
    "plt.ylabel('% of Missing Values', fontsize=15)\n",
    "plt.title('Percent Missing Data by Column', fontsize=15)\n",
    "plt.xticks(rotation=90)\n",
    "plt.show()"
   ]
  },
  {
   "cell_type": "code",
   "execution_count": 35,
   "metadata": {},
   "outputs": [],
   "source": [
    "df = pd.read_csv(\"outlets.csv\", sep= \";\")"
   ]
  },
  {
   "cell_type": "code",
   "execution_count": 36,
   "metadata": {},
   "outputs": [
    {
     "data": {
      "text/html": [
       "<div>\n",
       "<style scoped>\n",
       "    .dataframe tbody tr th:only-of-type {\n",
       "        vertical-align: middle;\n",
       "    }\n",
       "\n",
       "    .dataframe tbody tr th {\n",
       "        vertical-align: top;\n",
       "    }\n",
       "\n",
       "    .dataframe thead th {\n",
       "        text-align: right;\n",
       "    }\n",
       "</style>\n",
       "<table border=\"1\" class=\"dataframe\">\n",
       "  <thead>\n",
       "    <tr style=\"text-align: right;\">\n",
       "      <th></th>\n",
       "      <th>outlet_id</th>\n",
       "      <th>org_name_outlets</th>\n",
       "      <th>federal_subject</th>\n",
       "      <th>address</th>\n",
       "    </tr>\n",
       "  </thead>\n",
       "  <tbody>\n",
       "    <tr>\n",
       "      <th>0</th>\n",
       "      <td>500601</td>\n",
       "      <td>ОБЩЕСТВО С ОГРАНИЧЕННОЙ ОТВЕТСТВЕННОСТЬЮ \"ГАЛА...</td>\n",
       "      <td>Белгородская область</td>\n",
       "      <td>Белгородская область, Прохоровский р-н, пгт Пр...</td>\n",
       "    </tr>\n",
       "    <tr>\n",
       "      <th>1</th>\n",
       "      <td>500604</td>\n",
       "      <td>Общество с ограниченной ответственностью \"Фарм...</td>\n",
       "      <td>Ивановская область</td>\n",
       "      <td>Ивановская область, Тейковский р-н, г Тейково,...</td>\n",
       "    </tr>\n",
       "    <tr>\n",
       "      <th>2</th>\n",
       "      <td>500608</td>\n",
       "      <td>ОБЩЕСТВО С ОГРАНИЧЕННОЙ ОТВЕТСТВЕННОСТЬЮ \"ЭКОН...</td>\n",
       "      <td>Ставропольский край</td>\n",
       "      <td>Ставропольский край, г Кисловодск, ул 40 лет О...</td>\n",
       "    </tr>\n",
       "    <tr>\n",
       "      <th>3</th>\n",
       "      <td>500611</td>\n",
       "      <td>Общество с ограниченной ответственностью \"СТАМУС\"</td>\n",
       "      <td>Краснодарский край</td>\n",
       "      <td>Краснодарский край, г Краснодар, тер. Пашковск...</td>\n",
       "    </tr>\n",
       "    <tr>\n",
       "      <th>4</th>\n",
       "      <td>500612</td>\n",
       "      <td>ОБЩЕСТВО С ОГРАНИЧЕННОЙ ОТВЕТСТВЕННОСТЬЮ \"ЛИГА\"</td>\n",
       "      <td>Москва город</td>\n",
       "      <td>Город Москва, ш Открытое, д. 5 к. 11, помещ. 6/1</td>\n",
       "    </tr>\n",
       "    <tr>\n",
       "      <th>...</th>\n",
       "      <td>...</td>\n",
       "      <td>...</td>\n",
       "      <td>...</td>\n",
       "      <td>...</td>\n",
       "    </tr>\n",
       "    <tr>\n",
       "      <th>124066</th>\n",
       "      <td>288549</td>\n",
       "      <td>ИП Осадчая Н.Г.</td>\n",
       "      <td>Алтайский край</td>\n",
       "      <td>Алтайский край, г Барнаул, ул Попова, д. 4 к. 1</td>\n",
       "    </tr>\n",
       "    <tr>\n",
       "      <th>124067</th>\n",
       "      <td>288550</td>\n",
       "      <td>ОБЩЕСТВО С ОГРАНИЧЕННОЙ ОТВЕТСТВЕННОСТЬЮ \"ОМЕГА\"</td>\n",
       "      <td>Оренбургская область</td>\n",
       "      <td>Оренбургская область, г Оренбург, ул Розы Люкс...</td>\n",
       "    </tr>\n",
       "    <tr>\n",
       "      <th>124068</th>\n",
       "      <td>288551</td>\n",
       "      <td>ОБЩЕСТВО С ОГРАНИЧЕННОЙ ОТВЕТСТВЕННОСТЬЮ \"ОМЕГА\"</td>\n",
       "      <td>Оренбургская область</td>\n",
       "      <td>Оренбургская область, г Оренбург, ул Центральн...</td>\n",
       "    </tr>\n",
       "    <tr>\n",
       "      <th>124069</th>\n",
       "      <td>288552</td>\n",
       "      <td>ОБЩЕСТВО С ОГРАНИЧЕННОЙ ОТВЕТСТВЕННОСТЬЮ \"ОМЕГА\"</td>\n",
       "      <td>Оренбургская область</td>\n",
       "      <td>Оренбургская область, г Оренбург, пр-кт Братье...</td>\n",
       "    </tr>\n",
       "    <tr>\n",
       "      <th>124070</th>\n",
       "      <td>288553</td>\n",
       "      <td>ОБЩЕСТВО С ОГРАНИЧЕННОЙ ОТВЕТСТВЕННОСТЬЮ \"ОМЕГА\"</td>\n",
       "      <td>Оренбургская область</td>\n",
       "      <td>Оренбургская область, г Оренбург, пр-кт Гагари...</td>\n",
       "    </tr>\n",
       "  </tbody>\n",
       "</table>\n",
       "<p>124071 rows × 4 columns</p>\n",
       "</div>"
      ],
      "text/plain": [
       "        outlet_id                                   org_name_outlets  \\\n",
       "0          500601  ОБЩЕСТВО С ОГРАНИЧЕННОЙ ОТВЕТСТВЕННОСТЬЮ \"ГАЛА...   \n",
       "1          500604  Общество с ограниченной ответственностью \"Фарм...   \n",
       "2          500608  ОБЩЕСТВО С ОГРАНИЧЕННОЙ ОТВЕТСТВЕННОСТЬЮ \"ЭКОН...   \n",
       "3          500611  Общество с ограниченной ответственностью \"СТАМУС\"   \n",
       "4          500612    ОБЩЕСТВО С ОГРАНИЧЕННОЙ ОТВЕТСТВЕННОСТЬЮ \"ЛИГА\"   \n",
       "...           ...                                                ...   \n",
       "124066     288549                                    ИП Осадчая Н.Г.   \n",
       "124067     288550   ОБЩЕСТВО С ОГРАНИЧЕННОЙ ОТВЕТСТВЕННОСТЬЮ \"ОМЕГА\"   \n",
       "124068     288551   ОБЩЕСТВО С ОГРАНИЧЕННОЙ ОТВЕТСТВЕННОСТЬЮ \"ОМЕГА\"   \n",
       "124069     288552   ОБЩЕСТВО С ОГРАНИЧЕННОЙ ОТВЕТСТВЕННОСТЬЮ \"ОМЕГА\"   \n",
       "124070     288553   ОБЩЕСТВО С ОГРАНИЧЕННОЙ ОТВЕТСТВЕННОСТЬЮ \"ОМЕГА\"   \n",
       "\n",
       "             federal_subject  \\\n",
       "0       Белгородская область   \n",
       "1         Ивановская область   \n",
       "2        Ставропольский край   \n",
       "3         Краснодарский край   \n",
       "4               Москва город   \n",
       "...                      ...   \n",
       "124066        Алтайский край   \n",
       "124067  Оренбургская область   \n",
       "124068  Оренбургская область   \n",
       "124069  Оренбургская область   \n",
       "124070  Оренбургская область   \n",
       "\n",
       "                                                  address  \n",
       "0       Белгородская область, Прохоровский р-н, пгт Пр...  \n",
       "1       Ивановская область, Тейковский р-н, г Тейково,...  \n",
       "2       Ставропольский край, г Кисловодск, ул 40 лет О...  \n",
       "3       Краснодарский край, г Краснодар, тер. Пашковск...  \n",
       "4        Город Москва, ш Открытое, д. 5 к. 11, помещ. 6/1  \n",
       "...                                                   ...  \n",
       "124066    Алтайский край, г Барнаул, ул Попова, д. 4 к. 1  \n",
       "124067  Оренбургская область, г Оренбург, ул Розы Люкс...  \n",
       "124068  Оренбургская область, г Оренбург, ул Центральн...  \n",
       "124069  Оренбургская область, г Оренбург, пр-кт Братье...  \n",
       "124070  Оренбургская область, г Оренбург, пр-кт Гагари...  \n",
       "\n",
       "[124071 rows x 4 columns]"
      ]
     },
     "execution_count": 36,
     "metadata": {},
     "output_type": "execute_result"
    }
   ],
   "source": [
    "df"
   ]
  },
  {
   "cell_type": "code",
   "execution_count": 37,
   "metadata": {},
   "outputs": [
    {
     "name": "stdout",
     "output_type": "stream",
     "text": [
      "                  Missing Values         %\n",
      "outlet_id                      0  0.000000\n",
      "org_name_outlets               0  0.000000\n",
      "federal_subject              284  0.228901\n",
      "address                        0  0.000000\n"
     ]
    },
    {
     "name": "stderr",
     "output_type": "stream",
     "text": [
      "C:\\Users\\pisma\\AppData\\Local\\Temp\\ipykernel_10808\\4000705379.py:14: FutureWarning: \n",
      "\n",
      "Passing `palette` without assigning `hue` is deprecated and will be removed in v0.14.0. Assign the `x` variable to `hue` and set `legend=False` for the same effect.\n",
      "\n",
      "  sns.barplot(x=missing_values.index, y=missing_values['%'], palette=\"Blues_d\")\n"
     ]
    },
    {
     "data": {
      "image/png": "[encoded data removed]",
      "text/plain": [
       "<Figure size 1000x500 with 1 Axes>"
      ]
     },
     "metadata": {},
     "output_type": "display_data"
    }
   ],
   "source": [
    "# Функция для подсчета количества пропусков в каждом столбце\n",
    "def count_missing(df):\n",
    "    total = df.isnull().sum()\n",
    "    percent = 100 * df.isnull().sum()/len(df)\n",
    "    missing_data = pd.concat([total, percent], axis=1, keys=['Missing Values', '%'])\n",
    "    return(missing_data)\n",
    "\n",
    "# Выводим количество пропусков\n",
    "missing_values = count_missing(df)\n",
    "print(missing_values)\n",
    "\n",
    "# Строим график пропусков\n",
    "plt.figure(figsize=(10, 5))\n",
    "sns.barplot(x=missing_values.index, y=missing_values['%'], palette=\"Blues_d\")\n",
    "plt.xlabel('Columns', fontsize=15)\n",
    "plt.ylabel('% of Missing Values', fontsize=15)\n",
    "plt.title('Percent Missing Data by Column', fontsize=15)\n",
    "plt.xticks(rotation=90)\n",
    "plt.show()"
   ]
  },
  {
   "cell_type": "code",
   "execution_count": 38,
   "metadata": {},
   "outputs": [],
   "source": [
    "df1 = pd.read_csv('SELLOUT_TIME.csv', sep = ';', low_memory=False)"
   ]
  },
  {
   "cell_type": "code",
   "execution_count": 39,
   "metadata": {},
   "outputs": [
    {
     "name": "stdout",
     "output_type": "stream",
     "text": [
      "            Missing Values    %\n",
      "product_id               0  0.0\n",
      "outlet_id                0  0.0\n",
      "org_name                 0  0.0\n",
      "cnt                      0  0.0\n",
      "sell_date                0  0.0\n"
     ]
    },
    {
     "name": "stderr",
     "output_type": "stream",
     "text": [
      "C:\\Users\\pisma\\AppData\\Local\\Temp\\ipykernel_10808\\2465630125.py:14: FutureWarning: \n",
      "\n",
      "Passing `palette` without assigning `hue` is deprecated and will be removed in v0.14.0. Assign the `x` variable to `hue` and set `legend=False` for the same effect.\n",
      "\n",
      "  sns.barplot(x=missing_values.index, y=missing_values['%'], palette=\"Blues_d\")\n"
     ]
    },
    {
     "data": {
      "image/png": "[encoded data removed]",
      "text/plain": [
       "<Figure size 1000x500 with 1 Axes>"
      ]
     },
     "metadata": {},
     "output_type": "display_data"
    }
   ],
   "source": [
    "# Функция для подсчета количества пропусков в каждом столбце\n",
    "def count_missing(df):\n",
    "    total = df.isnull().sum()\n",
    "    percent = 100 * df.isnull().sum()/len(df)\n",
    "    missing_data = pd.concat([total, percent], axis=1, keys=['Missing Values', '%'])\n",
    "    return(missing_data)\n",
    "\n",
    "# Выводим количество пропусков\n",
    "missing_values = count_missing(df1)\n",
    "print(missing_values)\n",
    "\n",
    "# Строим график пропусков\n",
    "plt.figure(figsize=(10, 5))\n",
    "sns.barplot(x=missing_values.index, y=missing_values['%'], palette=\"Blues_d\")\n",
    "plt.xlabel('Columns', fontsize=15)\n",
    "plt.ylabel('% of Missing Values', fontsize=15)\n",
    "plt.title('Percent Missing Data by Column', fontsize=15)\n",
    "plt.xticks(rotation=90)\n",
    "plt.show()"
   ]
  }
 ],
 "metadata": {
  "kernelspec": {
   "display_name": "Python 3",
   "language": "python",
   "name": "python3"
  },
  "language_info": {
   "codemirror_mode": {
    "name": "ipython",
    "version": 3
   },
   "file_extension": ".py",
   "mimetype": "text/x-python",
   "name": "python",
   "nbconvert_exporter": "python",
   "pygments_lexer": "ipython3",
   "version": "3.13.2"
  }
 },
 "nbformat": 4,
 "nbformat_minor": 2
}
